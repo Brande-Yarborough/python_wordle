{
 "cells": [
  {
   "cell_type": "code",
   "execution_count": null,
   "id": "b403cf84",
   "metadata": {},
   "outputs": [],
   "source": [
    "import random\n",
    "\n",
    "print(\"WORDLE!\")\n",
    "print(\"How to Play: \")\n",
    "print(\"Guess a 5 letter word in 6 tries\")\n",
    "\n",
    "# use ANSI color codes for background color\n",
    "BG_GREEN = \"\\u001b[42m\"\n",
    "BG_YELLOW = \"\\u001b[43m\"\n",
    "RESET = \"\\u001b[0m\"\n",
    "\n",
    "# implement random.choice list for word list\n",
    "correct_word = random.choice([\"HOUSE\", \"SUGAR\", \"BLACK\", \"SLEEP\", \"GRAZE\"])\n",
    "# gives 6 guesses\n",
    "for guesses in range(6):\n",
    "    guess = input(\"Guess a 5 letter word: \").upper()\n",
    "\n",
    "    # check each letter\n",
    "    # create for loop to iterate through each character in word at specific index\n",
    "    for i in range(0, 5):\n",
    "        if guess[i] == correct_word[i]:\n",
    "            print(f\"{BG_GREEN}{guess[i]}{RESET}\",\n",
    "                  end=\"\")  # end prints horizontal\n",
    "        elif guess[i] in correct_word:\n",
    "            print(f\"{BG_YELLOW}{guess[i]}{RESET}\", end=\"\")\n",
    "        else:\n",
    "            print(guess[i], end=\"\")\n",
    "    # add print at end of for loop, so goes to next line for next round\n",
    "    print(\"\")\n",
    "\n",
    "    # check if guess is correct\n",
    "    if guess == correct_word:\n",
    "        print(\"You win!\")\n",
    "        exit()\n",
    "\n",
    "# if guess not correct\n",
    "print(\"Your guess was not correct.\")\n",
    "print(f\"The correct word was {correct_word}.\")\n"
   ]
  }
 ],
 "metadata": {
  "kernelspec": {
   "display_name": "Python 3 (ipykernel)",
   "language": "python",
   "name": "python3"
  },
  "language_info": {
   "codemirror_mode": {
    "name": "ipython",
    "version": 3
   },
   "file_extension": ".py",
   "mimetype": "text/x-python",
   "name": "python",
   "nbconvert_exporter": "python",
   "pygments_lexer": "ipython3",
   "version": "3.9.6"
  }
 },
 "nbformat": 4,
 "nbformat_minor": 5
}
